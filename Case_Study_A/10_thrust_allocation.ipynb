{
 "cells": [
  {
   "cell_type": "markdown",
   "metadata": {},
   "source": [
    "# Thrust allocation tutorial\n",
    "\n",
    "## Polar coordinate thrust allocation\n",
    "\n",
    "The polar coordinate thrust allocation for a 3 DOF vehicle with $m$ thrusters is given by the following equation:\n",
    "$$\n",
    "B(\\alpha) = \\begin{bmatrix}\n",
    "\\cos(\\alpha_1) & \\cos(\\alpha_2) & \\cdots & \\cos(\\alpha_m) \\\\\n",
    "\\sin(\\alpha_1) & \\sin(\\alpha_2) & \\cdots & \\sin(\\alpha_m) \\\\\n",
    "l_{x,1} \\sin(\\alpha_1) - l_{y,1} \\cos(\\alpha_1) & l_{x,2} \\sin(\\alpha_2) - l_{y,2} \\cos(\\alpha_2) & \\cdots & l_{x,m} \\sin(\\alpha_m) - l_{y,m} \\cos(\\alpha_m)\n",
    "\\end{bmatrix}\n",
    "$$\n",
    "where $\\alpha_i$ is the angle of the $i$-th thruster with respect to the x-axis, and $l_{x,i}$ and $l_{y,i}$ are the x and y coordinates of the $i$-th thruster.\n",
    "\n",
    "For simplicity, you can consider a single column to represent a single thruster configuration, i.e.:\n",
    "$$\n",
    "B_i(\\alpha_i) = \\begin{bmatrix}\n",
    "\\cos(\\alpha_i) \\\\\n",
    "\\sin(\\alpha_i) \\\\\n",
    "l_{x,i} \\sin(\\alpha_i) - l_{y,i} \\cos(\\alpha_i)\n",
    "\\end{bmatrix}\n",
    "$$\n"
   ]
  },
  {
   "cell_type": "code",
   "execution_count": 1,
   "metadata": {},
   "outputs": [
    {
     "ename": "ModuleNotFoundError",
     "evalue": "No module named 'ipywidgets'",
     "output_type": "error",
     "traceback": [
      "\u001b[0;31m---------------------------------------------------------------------------\u001b[0m",
      "\u001b[0;31mModuleNotFoundError\u001b[0m                       Traceback (most recent call last)",
      "Cell \u001b[0;32mIn[1], line 3\u001b[0m\n\u001b[1;32m      1\u001b[0m \u001b[38;5;66;03m# Create a ipynb slider to select an angle for port and starboard thrusters\u001b[39;00m\n\u001b[1;32m      2\u001b[0m \u001b[38;5;28;01mimport\u001b[39;00m \u001b[38;5;21;01mnumpy\u001b[39;00m \u001b[38;5;28;01mas\u001b[39;00m \u001b[38;5;21;01mnp\u001b[39;00m\n\u001b[0;32m----> 3\u001b[0m \u001b[38;5;28;01mimport\u001b[39;00m \u001b[38;5;21;01mipywidgets\u001b[39;00m\n\u001b[1;32m      4\u001b[0m \u001b[38;5;28;01mimport\u001b[39;00m \u001b[38;5;21;01mscipy\u001b[39;00m \u001b[38;5;28;01mas\u001b[39;00m \u001b[38;5;21;01msp\u001b[39;00m\n\u001b[1;32m      5\u001b[0m \u001b[38;5;28;01mimport\u001b[39;00m \u001b[38;5;21;01mscipy\u001b[39;00m\u001b[38;5;21;01m.\u001b[39;00m\u001b[38;5;21;01mlinalg\u001b[39;00m\n",
      "\u001b[0;31mModuleNotFoundError\u001b[0m: No module named 'ipywidgets'"
     ]
    }
   ],
   "source": [
    "# Create a ipynb slider to select an angle for port and starboard thrusters\n",
    "import numpy as np\n",
    "import ipywidgets\n",
    "import scipy as sp\n",
    "import scipy.linalg\n",
    "\n",
    "a1 = 0\n",
    "a2 = 0 #testMarkus11111\n",
    "\n",
    "def f1(port, starboard):\n",
    "    global a1, a2\n",
    "    a1, a2 = port, starboard\n",
    "\n",
    "w0 = 1.0\n",
    "w1 = 1.0\n",
    "w2 = 1.0\n",
    "\n",
    "def f2(_w0, _w1, _w2):\n",
    "    global w0, w1, w2\n",
    "    w0, w1, w2 = _w0, _w1, _w2\n",
    "\n",
    "l_x0 = 1.0\n",
    "l_x1 = 0.0\n",
    "l_x2 = 0.0\n",
    "\n",
    "l_y0 = 0.0\n",
    "l_y1 = -1.0\n",
    "l_y2 = 1.0"
   ]
  },
  {
   "cell_type": "code",
   "execution_count": 9,
   "metadata": {},
   "outputs": [],
   "source": [
    "# Create a 3DOF thrust allocation matrix using the angles and single tunnel\n",
    "# thruster. Save it on a matrix called B\n",
    "B = np.array(\n",
    "    [[0, np.cos(a1), np.cos(a2)],\n",
    "     [1, np.sin(a1), np.sin(a2)],\n",
    "     [l_x0, l_x1*np.sin(a1) - l_y1*np.cos(a2), l_x2*np.sin(a2) - l_y2*np.cos(a2)]])\n",
    "\n",
    "# Create a 3x3 identity matrix for the weights\n",
    "W = np.diag([w0, w1, w2])"
   ]
  },
  {
   "cell_type": "markdown",
   "metadata": {},
   "source": [
    "Now write down $$f^* = B_W^\\dagger \\tau_{cmd} + Q_W f_d, \\quad Q_W := I - B_W^\\dagger B$$\n",
    "\n",
    "Here, we use $Q_W$ to represents a correction term to pull the solution closer to the desired thrusts $f_d$. That can be useful and thought of as a way to minimize the norm of the thruster forces.\n",
    "\n",
    "and recall that $$B_W^\\dagger := W^{-1}B^\\top [B W^{-1}B^\\top]^{-1}.$$\n",
    "\n",
    "First compute $B_W^\\dagger$ and $Q_W$."
   ]
  },
  {
   "cell_type": "code",
   "execution_count": 10,
   "metadata": {},
   "outputs": [],
   "source": [
    "B_pinv_W = np.linalg.inv(W) @ B.T @ np.linalg.inv(B @ np.linalg.inv(W) @ B.T)\n",
    "\n",
    "Q_W = np.identity(3) - B_pinv_W @ B"
   ]
  },
  {
   "cell_type": "markdown",
   "metadata": {},
   "source": [
    "Now form the $\\tau_{cmd}$ vector."
   ]
  },
  {
   "cell_type": "code",
   "execution_count": 11,
   "metadata": {},
   "outputs": [],
   "source": [
    "f_x, f_y, m_z = 0, 0, 0\n",
    "tau_cmd = np.array([[f_x], [f_y], [m_z]])\n",
    "\n",
    "def f3(Fx, Fy, Mz):\n",
    "    global f_x, f_y, m_z, tau_cmd\n",
    "    f_x = Fx\n",
    "    f_y = Fy\n",
    "    m_z = Mz\n",
    "    tau_cmd = np.array([[f_x], [f_y], [m_z]])\n",
    "\n"
   ]
  },
  {
   "cell_type": "markdown",
   "metadata": {},
   "source": [
    "Now compute $f^*$."
   ]
  },
  {
   "cell_type": "code",
   "execution_count": 12,
   "metadata": {},
   "outputs": [
    {
     "data": {
      "text/plain": [
       "array([[0.],\n",
       "       [0.],\n",
       "       [0.]])"
      ]
     },
     "execution_count": 12,
     "metadata": {},
     "output_type": "execute_result"
    }
   ],
   "source": [
    "f_opt = B_pinv_W @ tau_cmd + Q_W @ np.array([[0], [0], [0]])\n",
    "\n",
    "f_opt"
   ]
  },
  {
   "cell_type": "markdown",
   "metadata": {},
   "source": [
    "Now incorporate the $f_d$ term."
   ]
  },
  {
   "cell_type": "code",
   "execution_count": 13,
   "metadata": {},
   "outputs": [],
   "source": [
    "f_d0, f_d1, f_d2 = 0, 0, 0\n",
    "f_d = np.array([[f_d0], [f_d1], [f_d2]])\n",
    "def f3(F0, F1, F2):\n",
    "    global f_d0, f_d1, f_d2, f_d\n",
    "    f_d0 = F0\n",
    "    f_d1 = F1\n",
    "    f_d2 = F2\n",
    "    f_d = np.array([[f_d0], [f_d1], [f_d2]])\n"
   ]
  },
  {
   "cell_type": "code",
   "execution_count": 14,
   "metadata": {},
   "outputs": [
    {
     "name": "stdout",
     "output_type": "stream",
     "text": [
      "f_opt = [[0.]\n",
      " [0.]\n",
      " [0.]], \n",
      " and \n",
      " f_d = [[0]\n",
      " [0]\n",
      " [0]]\n"
     ]
    }
   ],
   "source": [
    "f_opt = B_pinv_W @ tau_cmd + Q_W @ f_d\n",
    "\n",
    "print(f\"f_opt = {f_opt}, \\n and \\n f_d = {f_d}\")"
   ]
  }
 ],
 "metadata": {
  "kernelspec": {
   "display_name": "Python 3",
   "language": "python",
   "name": "python3"
  },
  "language_info": {
   "codemirror_mode": {
    "name": "ipython",
    "version": 3
   },
   "file_extension": ".py",
   "mimetype": "text/x-python",
   "name": "python",
   "nbconvert_exporter": "python",
   "pygments_lexer": "ipython3",
   "version": "3.10.0"
  }
 },
 "nbformat": 4,
 "nbformat_minor": 2
}
